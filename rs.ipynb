{
 "cells": [
  {
   "cell_type": "code",
   "execution_count": 16,
   "metadata": {},
   "outputs": [],
   "source": [
    "import pandas as pd\n",
    "from math import sqrt\n",
    "import numpy as np"
   ]
  },
  {
   "cell_type": "code",
   "execution_count": 17,
   "metadata": {},
   "outputs": [
    {
     "name": "stdout",
     "output_type": "stream",
     "text": [
      "<class 'pandas.core.frame.DataFrame'>\n",
      "RangeIndex: 9742 entries, 0 to 9741\n",
      "Data columns (total 3 columns):\n",
      " #   Column   Non-Null Count  Dtype \n",
      "---  ------   --------------  ----- \n",
      " 0   movieId  9742 non-null   int64 \n",
      " 1   title    9742 non-null   object\n",
      " 2   genres   9742 non-null   object\n",
      "dtypes: int64(1), object(2)\n",
      "memory usage: 228.5+ KB\n",
      "None\n"
     ]
    }
   ],
   "source": [
    "movies_df = pd.read_csv('movies.csv')\n",
    "ratings_df = pd.read_csv('ratings.csv')\n",
    "print(movies_df.info())"
   ]
  },
  {
   "cell_type": "code",
   "execution_count": 18,
   "metadata": {},
   "outputs": [
    {
     "name": "stdout",
     "output_type": "stream",
     "text": [
      "                                         title  rating\n",
      "0                             Tommy Boy (1995)       5\n",
      "1              Escape to Witch Mountain (1975)       3\n",
      "2  Winnie the Pooh and the Blustery Day (1968)       5\n",
      "3                 Three Caballeros, The (1945)       5\n",
      "4               Sword in the Stone, The (1963)       5\n"
     ]
    }
   ],
   "source": [
    "userInput = [{'title': 'Tommy Boy (1995)', 'rating': 5},\n",
    "             {'title':'Escape to Witch Mountain (1975)', 'rating': 3},\n",
    "             {'title':'Winnie the Pooh and the Blustery Day (1968)', 'rating': 5},\n",
    "             {'title':'Three Caballeros, The (1945)', 'rating': 5},\n",
    "             {'title':'Sword in the Stone, The (1963)', 'rating': 5}]\n",
    "inputMovies = pd.DataFrame(userInput)\n",
    "print(inputMovies)"
   ]
  },
  {
   "cell_type": "code",
   "execution_count": 20,
   "metadata": {},
   "outputs": [
    {
     "name": "stdout",
     "output_type": "stream",
     "text": [
      "   movieId                                        title  \\\n",
      "0      333                             Tommy Boy (1995)   \n",
      "1     1009              Escape to Witch Mountain (1975)   \n",
      "2     1023  Winnie the Pooh and the Blustery Day (1968)   \n",
      "3     1024                 Three Caballeros, The (1945)   \n",
      "4     1025               Sword in the Stone, The (1963)   \n",
      "\n",
      "                               genres  rating  \n",
      "0                              Comedy       5  \n",
      "1          Adventure|Children|Fantasy       3  \n",
      "2          Animation|Children|Musical       5  \n",
      "3          Animation|Children|Musical       5  \n",
      "4  Animation|Children|Fantasy|Musical       5  \n"
     ]
    }
   ],
   "source": [
    "inputId = movies_df[movies_df['title'].isin(inputMovies['title'].tolist())]\n",
    "inputMovies = pd.merge(inputId, inputMovies)\n",
    "print(inputMovies)"
   ]
  },
  {
   "cell_type": "code",
   "execution_count": 21,
   "metadata": {},
   "outputs": [
    {
     "name": "stdout",
     "output_type": "stream",
     "text": [
      "         userId  rating  timestamp\n",
      "movieId                           \n",
      "333          50      50         50\n",
      "1009          9       9          9\n",
      "1023         13      13         13\n",
      "1024          6       6          6\n",
      "1025         25      25         25\n"
     ]
    }
   ],
   "source": [
    "userSubset = ratings_df[ratings_df['movieId'].isin(inputMovies['movieId'].tolist())]\n",
    "print(userSubset.groupby('movieId').count())"
   ]
  },
  {
   "cell_type": "code",
   "execution_count": 22,
   "metadata": {},
   "outputs": [
    {
     "name": "stdout",
     "output_type": "stream",
     "text": [
      "[((1,),     userId  movieId  rating  timestamp\n",
      "18       1      333     5.0  964981179\n",
      "49       1     1009     3.0  964981775\n",
      "50       1     1023     5.0  964982681\n",
      "51       1     1024     5.0  964982876\n",
      "52       1     1025     5.0  964982791), ((414,),        userId  movieId  rating   timestamp\n",
      "62439     414      333     3.0   961439132\n",
      "62656     414     1009     2.0  1026225826\n",
      "62665     414     1023     4.0   961519060\n",
      "62666     414     1024     4.0   961518975\n",
      "62667     414     1025     4.0   961519060), ((288,),        userId  movieId  rating  timestamp\n",
      "42238     288     1009     3.0  978468314\n",
      "42250     288     1023     5.0  978469199\n",
      "42251     288     1024     2.0  978469502\n",
      "42252     288     1025     2.0  978469270), ((51,),       userId  movieId  rating   timestamp\n",
      "7442      51      333     2.0  1230929800\n",
      "7482      51     1009     3.5  1230930546\n",
      "7485      51     1024     4.0  1230931449), ((274,),        userId  movieId  rating   timestamp\n",
      "39297     274      333     3.5  1171758879\n",
      "39398     274     1023     3.5  1172269297\n",
      "39399     274     1025     3.5  1172269383)]\n"
     ]
    }
   ],
   "source": [
    "#Groupby creates several sub dataframes where they all have the same value in the column specified as the parameter\n",
    "userSubsetGroup = userSubset.groupby(['userId'])\n",
    "\n",
    "def take_5_elem(x):\n",
    "    # print (len(x[1]))\n",
    "    return len(x[1])\n",
    "    \n",
    "\n",
    "#Sorting it so users with movie most in common with the input will have priority\n",
    "userSubsetGroup = sorted(userSubsetGroup, key=take_5_elem, reverse=True)\n",
    "\n",
    "userSubsetGroup = userSubsetGroup[0:100]\n",
    "print(userSubsetGroup[0:5])"
   ]
  },
  {
   "cell_type": "code",
   "execution_count": 23,
   "metadata": {},
   "outputs": [],
   "source": [
    "#Store the Pearson Correlation in a dictionary, where the key is the user Id and the value is the coefficient\n",
    "pearsonCorrelationDict = {}\n",
    "\n",
    "#For every user group in our subset\n",
    "for name, group in userSubsetGroup:\n",
    "\n",
    "    #Let's start by sorting the input and current user group so the values aren't mixed up later on\n",
    "    group = group.sort_values(by='movieId')\n",
    "    inputMovies = inputMovies.sort_values(by='movieId')\n",
    "\n",
    "    #Get the N for the formula\n",
    "    nRatings = len(group)\n",
    "\n",
    "    #Get the review scores for the movies that they both have in common\n",
    "    temp_df = inputMovies[inputMovies['movieId'].isin(group['movieId'].tolist())]\n",
    "\n",
    "    #And then store them in a temporary buffer variable in a list format to facilitate future calculations\n",
    "    tempRatingList = temp_df['rating'].tolist()\n",
    "   \n",
    "    #Let's also put the current user group reviews in a list format\n",
    "    tempGroupList = group['rating'].tolist()\n",
    "   \n",
    "    \n",
    "    #Now let's calculate the pearson correlation between two users, so called, x and y manually (check the formula from week 7 slide)\n",
    "    Sxx = sum([i**2 for i in tempRatingList]) - pow(sum(tempRatingList),2)/float(nRatings)\n",
    "    Syy = sum([i**2 for i in tempGroupList]) - pow(sum(tempGroupList),2)/float(nRatings)\n",
    "    Sxy = sum( i*j for i, j in zip(tempRatingList, tempGroupList)) - sum(tempRatingList)*sum(tempGroupList)/float(nRatings)\n",
    "\n",
    "    #If the denominator is different than zero, then divide, else, 0 correlation.\n",
    "    if Sxx != 0 and Syy != 0:\n",
    "        pearsonCorrelationDict[name] = Sxy/sqrt(Sxx*Syy)\n",
    "    else:\n",
    "        pearsonCorrelationDict[name] = 0"
   ]
  },
  {
   "cell_type": "code",
   "execution_count": 24,
   "metadata": {},
   "outputs": [
    {
     "name": "stdout",
     "output_type": "stream",
     "text": [
      "   similarityIndex  userId\n",
      "0          1.00000    (1,)\n",
      "1          0.87500  (414,)\n",
      "2          0.00000  (288,)\n",
      "3         -0.27735   (51,)\n",
      "4          0.00000  (274,)\n"
     ]
    }
   ],
   "source": [
    "pearsonDF = pd.DataFrame.from_dict(pearsonCorrelationDict, orient='index')\n",
    "pearsonDF.columns = ['similarityIndex']\n",
    "pearsonDF['userId'] = pearsonDF.index\n",
    "pearsonDF.index = range(len(pearsonDF))\n",
    "print(pearsonDF.head())"
   ]
  },
  {
   "cell_type": "code",
   "execution_count": 28,
   "metadata": {},
   "outputs": [
    {
     "name": "stdout",
     "output_type": "stream",
     "text": [
      "    similarityIndex  userId\n",
      "0             1.000    (1,)\n",
      "10            1.000  (385,)\n",
      "1             0.875  (414,)\n",
      "74            0.000  (600,)\n",
      "73            0.000  (599,)\n"
     ]
    }
   ],
   "source": [
    "topUsers=pearsonDF.sort_values(by='similarityIndex', ascending=False)[0:50]\n",
    "print(topUsers.head())\n",
    "topUsers['userId'] = topUsers['userId'].apply(lambda x:x[0])"
   ]
  },
  {
   "cell_type": "code",
   "execution_count": 29,
   "metadata": {},
   "outputs": [
    {
     "name": "stdout",
     "output_type": "stream",
     "text": [
      "    similarityIndex  userId  movieId  rating  timestamp\n",
      "0               1.0       1        1     4.0  964982703\n",
      "1               1.0       1        3     4.0  964981247\n",
      "2               1.0       1        6     4.0  964982224\n",
      "3               1.0       1       47     5.0  964983815\n",
      "4               1.0       1       50     5.0  964982931\n",
      "..              ...     ...      ...     ...        ...\n",
      "95              1.0       1     1445     3.0  964984112\n",
      "96              1.0       1     1473     4.0  964980875\n",
      "97              1.0       1     1500     4.0  964980985\n",
      "98              1.0       1     1517     5.0  964981107\n",
      "99              1.0       1     1552     4.0  964982620\n",
      "\n",
      "[100 rows x 5 columns]\n"
     ]
    }
   ],
   "source": [
    "topUsersRating = topUsers.merge(ratings_df, left_on='userId', right_on='userId', how='inner')\n",
    "print(topUsersRating.head(100))"
   ]
  },
  {
   "cell_type": "code",
   "execution_count": 30,
   "metadata": {},
   "outputs": [
    {
     "name": "stdout",
     "output_type": "stream",
     "text": [
      "   similarityIndex  userId  movieId  rating  timestamp  weightedRating\n",
      "0              1.0       1        1     4.0  964982703             4.0\n",
      "1              1.0       1        3     4.0  964981247             4.0\n",
      "2              1.0       1        6     4.0  964982224             4.0\n",
      "3              1.0       1       47     5.0  964983815             5.0\n",
      "4              1.0       1       50     5.0  964982931             5.0\n"
     ]
    }
   ],
   "source": [
    "#Multiplies the similarity by the user’s ratings\n",
    "topUsersRating['weightedRating'] = topUsersRating['similarityIndex']*topUsersRating['rating']\n",
    "print(topUsersRating.head())"
   ]
  },
  {
   "cell_type": "code",
   "execution_count": 31,
   "metadata": {},
   "outputs": [
    {
     "name": "stdout",
     "output_type": "stream",
     "text": [
      "   similarityIndex  userId  movieId  rating  timestamp  weightedRating\n",
      "0              1.0       1        1     4.0  964982703             4.0\n",
      "1              1.0       1        3     4.0  964981247             4.0\n",
      "2              1.0       1        6     4.0  964982224             4.0\n",
      "3              1.0       1       47     5.0  964983815             5.0\n",
      "4              1.0       1       50     5.0  964982931             5.0\n"
     ]
    }
   ],
   "source": [
    "#Multiplies the similarity by the user’s ratings\n",
    "topUsersRating['weightedRating'] = topUsersRating['similarityIndex']*topUsersRating['rating']\n",
    "print(topUsersRating.head())"
   ]
  },
  {
   "cell_type": "code",
   "execution_count": 32,
   "metadata": {},
   "outputs": [
    {
     "name": "stdout",
     "output_type": "stream",
     "text": [
      "         sum_similarityIndex  sum_weightedRating\n",
      "movieId                                         \n",
      "1                      2.875              11.500\n",
      "2                      0.875               2.625\n",
      "3                      1.875               7.500\n",
      "4                      0.000               0.000\n",
      "5                      0.875               1.750\n"
     ]
    }
   ],
   "source": [
    "#Applies a sum to the topUsers after grouping it up by movieId\n",
    "tempTopUsersRating = topUsersRating.groupby('movieId').sum()[['similarityIndex','weightedRating']]\n",
    "tempTopUsersRating.columns = ['sum_similarityIndex','sum_weightedRating']\n",
    "print(tempTopUsersRating.head())"
   ]
  },
  {
   "cell_type": "code",
   "execution_count": 33,
   "metadata": {},
   "outputs": [
    {
     "name": "stdout",
     "output_type": "stream",
     "text": [
      "         weighted average recommendation score  movieId\n",
      "movieId                                                \n",
      "1                                     4.000000        1\n",
      "2                                     3.000000        2\n",
      "3                                     4.000000        3\n",
      "4                                          NaN        4\n",
      "5                                     2.000000        5\n",
      "6                                     3.347826        6\n",
      "7                                     3.000000        7\n",
      "8                                     3.000000        8\n",
      "9                                          NaN        9\n",
      "10                                    3.000000       10\n"
     ]
    }
   ],
   "source": [
    "#Creates an empty dataframe\n",
    "recommendation_df = pd.DataFrame()\n",
    "\n",
    "#Now we take the weighted average\n",
    "recommendation_df['weighted average recommendation score'] = tempTopUsersRating['sum_weightedRating']/tempTopUsersRating['sum_similarityIndex']\n",
    "recommendation_df['movieId'] = tempTopUsersRating.index\n",
    "print(recommendation_df.head(10))"
   ]
  },
  {
   "cell_type": "code",
   "execution_count": 34,
   "metadata": {},
   "outputs": [
    {
     "name": "stdout",
     "output_type": "stream",
     "text": [
      "         weighted average recommendation score  movieId\n",
      "movieId                                                \n",
      "3578                                       5.0     3578\n",
      "589                                        5.0      589\n",
      "2542                                       5.0     2542\n",
      "2395                                       5.0     2395\n",
      "3034                                       5.0     3034\n",
      "...                                        ...      ...\n",
      "183301                                     NaN   183301\n",
      "184245                                     NaN   184245\n",
      "188675                                     NaN   188675\n",
      "188833                                     NaN   188833\n",
      "189381                                     NaN   189381\n",
      "\n",
      "[6822 rows x 2 columns]\n"
     ]
    }
   ],
   "source": [
    "recommendation_df = recommendation_df.sort_values(by='weighted average recommendation score', ascending=False)\n",
    "print(recommendation_df)"
   ]
  },
  {
   "cell_type": "code",
   "execution_count": 35,
   "metadata": {},
   "outputs": [
    {
     "name": "stdout",
     "output_type": "stream",
     "text": [
      "      movieId                                      title  \\\n",
      "0           1                           Toy Story (1995)   \n",
      "1           2                             Jumanji (1995)   \n",
      "2           3                    Grumpier Old Men (1995)   \n",
      "3           4                   Waiting to Exhale (1995)   \n",
      "4           5         Father of the Bride Part II (1995)   \n",
      "...       ...                                        ...   \n",
      "9695   184791  Fred Armisen: Standup for Drummers (2018)   \n",
      "9710   187595             Solo: A Star Wars Story (2018)   \n",
      "9714   188675                              Dogman (2018)   \n",
      "9717   188833      The Man Who Killed Don Quixote (2018)   \n",
      "9721   189381                            SuperFly (2018)   \n",
      "\n",
      "                                           genres  \n",
      "0     Adventure|Animation|Children|Comedy|Fantasy  \n",
      "1                      Adventure|Children|Fantasy  \n",
      "2                                  Comedy|Romance  \n",
      "3                            Comedy|Drama|Romance  \n",
      "4                                          Comedy  \n",
      "...                                           ...  \n",
      "9695                                       Comedy  \n",
      "9710             Action|Adventure|Children|Sci-Fi  \n",
      "9714                                  Crime|Drama  \n",
      "9717                     Adventure|Comedy|Fantasy  \n",
      "9721                        Action|Crime|Thriller  \n",
      "\n",
      "[6817 rows x 3 columns]\n"
     ]
    }
   ],
   "source": [
    "recommended_movie=movies_df.loc[movies_df['movieId'].isin(recommendation_df['movieId'])]\n",
    "\n",
    "#we don't want to recommend the same movie\n",
    "recommended_movie=recommended_movie.loc[~recommended_movie.movieId.isin(userSubset['movieId'])]\n",
    "\n",
    "print(recommended_movie)"
   ]
  }
 ],
 "metadata": {
  "kernelspec": {
   "display_name": "Python 3",
   "language": "python",
   "name": "python3"
  },
  "language_info": {
   "codemirror_mode": {
    "name": "ipython",
    "version": 3
   },
   "file_extension": ".py",
   "mimetype": "text/x-python",
   "name": "python",
   "nbconvert_exporter": "python",
   "pygments_lexer": "ipython3",
   "version": "3.10.2"
  }
 },
 "nbformat": 4,
 "nbformat_minor": 2
}
